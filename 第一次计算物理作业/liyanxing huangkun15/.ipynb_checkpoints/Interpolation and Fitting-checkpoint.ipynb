{
 "cells": [
  {
   "cell_type": "markdown",
   "metadata": {},
   "source": [
    "***Wirtten by Liyanxing, 41524537, Huangkun Class***"
   ]
  },
  {
   "cell_type": "markdown",
   "metadata": {},
   "source": [
    "# Question 1:\n",
    "My source codes using Python3:"
   ]
  },
  {
   "cell_type": "code",
   "execution_count": 1,
   "metadata": {
    "scrolled": true
   },
   "outputs": [
    {
     "name": "stdout",
     "output_type": "stream",
     "text": [
      "The result:\n",
      "f(0.472) =  0.495552928\n",
      "f(x) = 0.5, x =  0.47693618488311773\n"
     ]
    }
   ],
   "source": [
    "\"\"\"\n",
    "@brief: Lagrange 2 interpolation\n",
    "@param: x       the array of x\n",
    "@param: fx      the array of y \n",
    "@return: the 2nd power interpolation function\n",
    "\"\"\"   \n",
    "def get_sub_two_interpolation_func(x = [], fx = []):\n",
    "       \n",
    "    def sub_two_interpolation_func(Lx):\n",
    "        result = 0\n",
    "        a = (Lx-x[1])*(Lx-x[2])/(x[0]-x[1])/(x[0]-x[2])\n",
    "        b = (Lx-x[0])*(Lx-x[2])/(x[1]-x[0])/(x[1]-x[2])\n",
    "        c = (Lx-x[0])*(Lx-x[1])/(x[2]-x[0])/(x[2]-x[1])\n",
    "        result = a*fx[0]+b*fx[1]+c*fx[2]\n",
    "        return result\n",
    "    \n",
    "    return sub_two_interpolation_func\n",
    "\n",
    "print(\"The result:\")\n",
    "\n",
    "#calculate f(0.472)\n",
    "x1 = [0.46,0.47,0.48]\n",
    "y1 = [0.4846555,0.4937452,0.5027498]\n",
    "interplt = get_sub_two_interpolation_func(x1,y1)\n",
    "print(\"f(0.472) = \", interplt(0.472))\n",
    "\n",
    "#calculate f(x) = 0.5\n",
    "num = 0.476\n",
    "low = 0.472  \n",
    "up = 0.48\n",
    "x = interplt(num)\n",
    "while abs(0.5-x) > 1e-9:\n",
    "    x = interplt(num)\n",
    "    if (x > 0.5):\n",
    "        up = num\n",
    "        num = 0.5*(up+low)\n",
    "    else:\n",
    "        low = num\n",
    "        num = 0.5*(up+low)\n",
    "print(\"f(x) = 0.5, x = \", num)\n",
    "#--------------------------------------------------------"
   ]
  },
  {
   "cell_type": "markdown",
   "metadata": {},
   "source": [
    "# Question 2:\n",
    "According to the definition of Spline interpolation, we can get the functions as follow:\n",
    "$$S_{0} = 2x^{3}, S_{1} = x^{3}+ax_{2}+bx+c$$\n",
    "$$S^{'}_{0} = 6x^{2}, S^{'}_{1} = 3x^{2}+2ax+b$$\n",
    "$$S^{''}_{0} = 12x, S^{''}_{1} = 6x+2a$$\n",
    "take $x=1$ into the equations and we can get:\n",
    "$$a = 3$$\n",
    "$$b = -3$$\n",
    "$$c = 1$$"
   ]
  },
  {
   "cell_type": "markdown",
   "metadata": {},
   "source": [
    "# Question 3:\n",
    "I use numpy as the tool to solve this problem. Here are my source codes using Python3:"
   ]
  },
  {
   "cell_type": "code",
   "execution_count": 3,
   "metadata": {},
   "outputs": [
    {
     "name": "stdout",
     "output_type": "stream",
     "text": [
      "The figure of curve：\n"
     ]
    },
    {
     "data": {
      "image/png": "[encoded data removed]",
      "text/plain": [
       "<matplotlib.figure.Figure at 0x1149af438>"
      ]
     },
     "metadata": {},
     "output_type": "display_data"
    }
   ],
   "source": [
    "import matplotlib.pyplot as plt\n",
    "import numpy as np\n",
    "\n",
    "x = np.arange(1,8,1)\n",
    "y = np.array([2,3,6,7,5,3,2])\n",
    "\n",
    "z1 = np.polyfit(x, y, 2)\n",
    "# p1 is the fitting function\n",
    "p1 = np.poly1d(z1)\n",
    "curv = p1(x)\n",
    "\n",
    "# print(p1) \n",
    "# since the printed string is too ugly, I will type it myself latter in this page\n",
    "print(\"The figure of curve：\")\n",
    "\n",
    "#plot the figure of the curve\n",
    "plot1=plt.plot(x, y, '*',label='original values')\n",
    "plot2=plt.plot(x, curv, 'r',label='polyfit values')\n",
    "plt.xlabel('x axis')\n",
    "plt.ylabel('y axis')\n",
    "plt.legend(loc=4)\n",
    "plt.title('polyfitting')\n",
    "plt.show()\n",
    "#-----------------------------------------------------"
   ]
  },
  {
   "cell_type": "markdown",
   "metadata": {},
   "source": [
    "The fitting function result: $p1 = -0.4881x^{2}+3.869x-1.714$"
   ]
  }
 ],
 "metadata": {
  "kernelspec": {
   "display_name": "Python 3",
   "language": "python",
   "name": "python3"
  },
  "language_info": {
   "codemirror_mode": {
    "name": "ipython",
    "version": 3
   },
   "file_extension": ".py",
   "mimetype": "text/x-python",
   "name": "python",
   "nbconvert_exporter": "python",
   "pygments_lexer": "ipython3",
   "version": "3.6.3"
  }
 },
 "nbformat": 4,
 "nbformat_minor": 2
}
