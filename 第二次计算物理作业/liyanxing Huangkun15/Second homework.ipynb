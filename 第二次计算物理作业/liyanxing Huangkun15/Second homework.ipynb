{
 "cells": [
  {
   "cell_type": "markdown",
   "metadata": {},
   "source": [
    "***Name: Liyanxing, Student ID: 41524537, Huangkun Class***"
   ]
  },
  {
   "cell_type": "markdown",
   "metadata": {},
   "source": [
    "# Question3"
   ]
  },
  {
   "cell_type": "code",
   "execution_count": 1,
   "metadata": {
    "scrolled": false
   },
   "outputs": [
    {
     "name": "stdout",
     "output_type": "stream",
     "text": [
      "result: x = [ 0.  0.  0.]\n"
     ]
    }
   ],
   "source": [
    "\"\"\"\n",
    "@brief: 三角矩阵追赶法\n",
    "@param: a       the bottom diagonal of magrix\n",
    "@param: b       the middle diagonal of matrix\n",
    "@param: c       the top diagonal of matrix\n",
    "@param: f       coefficient matrix\n",
    "@return: x      unknown variable\n",
    "\"\"\"   \n",
    "import numpy as np\n",
    "import matplotlib.pyplot as plt\n",
    "def TriangleMatrixFun(a,b,c,f): \n",
    "    n = len(f)\n",
    "    d = np.zeros(n)\n",
    "    d[0] = b[0]\n",
    "    u = np.zeros(n)\n",
    "    x = np.zeros(n)\n",
    "    y = np.zeros(n)\n",
    "    for i in range(0,n-1):\n",
    "        u[i]=c[i]/d[i]\n",
    "        d[i+1]=b[i+1]-a[i+1]*u[i]\n",
    "        \n",
    "    y[0]= f[0]/d[0]\n",
    "    \n",
    "    for i in range(1,n):\n",
    "        y[i]=(f[i]-a[i]*y[i-1])/d[i]\n",
    "    \n",
    "    x[n-1]=y[n-1]\n",
    "    \n",
    "    for i in range(n-2,-1,-1):\n",
    "        x[i]=y[i]-u[i]*x[i+1]\n",
    "    return x\n",
    "\n",
    "# a=[0,2,3]\n",
    "# b=[1,2,3]\n",
    "# c=[2,3,0]\n",
    "# f=[1,2,3]\n",
    "a=[0,2,2]\n",
    "b=[1,1,1]\n",
    "c=[2,2,0]\n",
    "f=[0,0,0]\n",
    "print(\"result: x =\",TriangleMatrixFun(a,b,c,f))"
   ]
  },
  {
   "cell_type": "markdown",
   "metadata": {},
   "source": [
    "# Question4"
   ]
  },
  {
   "cell_type": "code",
   "execution_count": 18,
   "metadata": {},
   "outputs": [
    {
     "name": "stdout",
     "output_type": "stream",
     "text": [
      "SubQuestion1:\n",
      "x: 1.0861867761413793\n",
      "y: 1.9436851938087332\n",
      "SubQuestion2:\n",
      "x: -0.22221461085395855\n",
      "y: 0.9938084350163493\n"
     ]
    }
   ],
   "source": [
    "\"\"\"\n",
    "@brief: 牛顿迭代法\n",
    "@param: xk         the expected value of x\n",
    "@param: yk         the expected value of y\n",
    "@param: f1         the function 1\n",
    "@param: f2         the function 2\n",
    "@param: Ak         the partial derivative x and y of f1 and f2\n",
    "@param: ex         the permitted diviation of x\n",
    "@param: ey         the permitted diviation of y\n",
    "@return: x         unknown variable\n",
    "\"\"\"   \n",
    "import numpy as np\n",
    "import math as m\n",
    "import matplotlib.pyplot as plt\n",
    "\n",
    "class Ak:\n",
    "    def __init__(self,A11,A12,A21,A22):\n",
    "        self.A11 = A11\n",
    "        self.A12 = A12\n",
    "        self.A21 = A21\n",
    "        self.A22 = A22\n",
    "\n",
    "def NewtonMethod(xk,yk,Ak,f1,f2,e1,e2):\n",
    "    x=xk\n",
    "    y=yk\n",
    "    while 1>0:\n",
    "        s1 = abs(f1(x,y))+abs(f2(x,y))\n",
    "        if (s1<e1):\n",
    "            print(\"x:\",x)\n",
    "            print(\"y:\",y)\n",
    "            break\n",
    "        else:\n",
    "            dltx = (-Ak(x,y).A22*f1(x,y)+Ak(x,y).A12*f2(x,y))/(Ak(x,y).A11*Ak(x,y).A22-Ak(x,y).A21*Ak(x,y).A12)\n",
    "            dlty = (-Ak(x,y).A21*f1(x,y)+Ak(x,y).A11*f2(x,y))/(Ak(x,y).A21*Ak(x,y).A12-Ak(x,y).A22*Ak(x,y).A11)\n",
    "            x = x + dltx\n",
    "            y = y + dlty\n",
    "            s2 = abs(dltx) + abs(dlty)\n",
    "            if (s2<e2):\n",
    "                print(\"x:\",x)\n",
    "                print(\"y:\",y)\n",
    "                break\n",
    "                \n",
    "def function1(x,y):\n",
    "    z = y*m.cos(x*y)+1\n",
    "    return z\n",
    "def function2(x,y):\n",
    "    z = m.sin(x*y)+x-y\n",
    "    return z\n",
    "def function3(x,y):\n",
    "    z = x**2-2*x-y+0.5\n",
    "    return z\n",
    "def function4(x,y):\n",
    "    z = x**2+4*y**2-4\n",
    "    return z\n",
    "\n",
    "#计算偏导数矩阵\n",
    "def AkCal1(x,y):\n",
    "    l1=-y*y*m.sin(x*y)\n",
    "    l2=m.cos(x*y)-x*y*m.sin(x*y)\n",
    "    l3=y*m.cos(x*y)+1\n",
    "    l4=x*m.cos(x*y)-1\n",
    "    Aks = Ak(l1,l2,l3,l4)\n",
    "    return Aks\n",
    "\n",
    "def AkCal2(x,y):\n",
    "    l1=2*x-2\n",
    "    l2=-1\n",
    "    l3=2*x\n",
    "    l4=8*y\n",
    "    Aks = Ak(l1,l2,l3,l4)\n",
    "    return Aks\n",
    "\n",
    "print(\"SubQuestion1:\")\n",
    "NewtonMethod(1,2,AkCal1,function1,function2,0.0001,0.0001)\n",
    "print(\"SubQuestion2:\")\n",
    "NewtonMethod(0,1,AkCal2,function3,function4,0.0001,0.0001)\n",
    "\n",
    "    \n",
    "    "
   ]
  }
 ],
 "metadata": {
  "kernelspec": {
   "display_name": "Python 3",
   "language": "python",
   "name": "python3"
  },
  "language_info": {
   "codemirror_mode": {
    "name": "ipython",
    "version": 3
   },
   "file_extension": ".py",
   "mimetype": "text/x-python",
   "name": "python",
   "nbconvert_exporter": "python",
   "pygments_lexer": "ipython3",
   "version": "3.6.3"
  }
 },
 "nbformat": 4,
 "nbformat_minor": 2
}
